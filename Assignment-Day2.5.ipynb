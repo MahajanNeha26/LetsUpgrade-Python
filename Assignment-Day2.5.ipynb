{
 "cells": [
  {
   "cell_type": "markdown",
   "metadata": {},
   "source": [
    "# Strings - Methods\n",
    "Ordered Sequence of Characters"
   ]
  },
  {
   "cell_type": "code",
   "execution_count": 1,
   "metadata": {},
   "outputs": [
    {
     "name": "stdout",
     "output_type": "stream",
     "text": [
      "Hello,i am learning python from letsupgrade.\n"
     ]
    }
   ],
   "source": [
    "strr = \"hello,i am learning python from letsupgrade.\"  \n",
    "x = strr.capitalize()  #Converts the first character to upper case\n",
    "print (x)"
   ]
  },
  {
   "cell_type": "code",
   "execution_count": 2,
   "metadata": {},
   "outputs": [
    {
     "name": "stdout",
     "output_type": "stream",
     "text": [
      "********************************************LetsUpgrade*********************************************\n"
     ]
    }
   ],
   "source": [
    "strr1 = \"LetsUpgrade\"          #Returns a centered string\n",
    "x = strr1.center(100,\"*\")\n",
    "print(x)"
   ]
  },
  {
   "cell_type": "code",
   "execution_count": 3,
   "metadata": {},
   "outputs": [
    {
     "name": "stdout",
     "output_type": "stream",
     "text": [
      "False\n"
     ]
    }
   ],
   "source": [
    "strr2 = \"U R GENIOUS!\"          #checks if all characters in striong are lowercase\n",
    "x = strr2.islower()\n",
    "print(x)"
   ]
  },
  {
   "cell_type": "code",
   "execution_count": 4,
   "metadata": {},
   "outputs": [
    {
     "name": "stdout",
     "output_type": "stream",
     "text": [
      "Tom%Som%Dom%Rom\n"
     ]
    }
   ],
   "source": [
    "myTuple = (\"Tom\",\"Som\",\"Dom\",\"Rom\") #Joins the elements of an iterable to the end of the string\n",
    "x = \"%\".join(myTuple)\n",
    "print(x)"
   ]
  },
  {
   "cell_type": "code",
   "execution_count": 5,
   "metadata": {},
   "outputs": [
    {
     "name": "stdout",
     "output_type": "stream",
     "text": [
      "16\n"
     ]
    }
   ],
   "source": [
    "strr3 = \"I am a Girl.My Mam told me to complete my books.\"   #returns the last position of where specified sttring was found\n",
    "x = strr3.rindex(\"am\")\n",
    "print(x)\n"
   ]
  },
  {
   "cell_type": "code",
   "execution_count": null,
   "metadata": {},
   "outputs": [],
   "source": []
  }
 ],
 "metadata": {
  "kernelspec": {
   "display_name": "Python 3",
   "language": "python",
   "name": "python3"
  },
  "language_info": {
   "codemirror_mode": {
    "name": "ipython",
    "version": 3
   },
   "file_extension": ".py",
   "mimetype": "text/x-python",
   "name": "python",
   "nbconvert_exporter": "python",
   "pygments_lexer": "ipython3",
   "version": "3.8.3"
  }
 },
 "nbformat": 4,
 "nbformat_minor": 4
}
