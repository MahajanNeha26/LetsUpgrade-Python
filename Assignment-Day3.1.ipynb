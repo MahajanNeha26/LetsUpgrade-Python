{
 "cells": [
  {
   "cell_type": "markdown",
   "metadata": {},
   "source": [
    "# You all are Pilots, you want to land a plane safely, so altitude required for landing a plane is1000ft, it it is less than tell pilot to land the plane, or it is more than that but less than 5000ft ask the pilot to “come down to 1000ft”, else if it more than 5000ft ask the pilot to “go around and try later”\n",
    "Example : Input - 1000          Output - Safe to Land\n",
    "Example : Input - 4500          Output - Bring down to 1000\n",
    "Example : Input - 6500          Output - Turn Around"
   ]
  },
  {
   "cell_type": "code",
   "execution_count": 10,
   "metadata": {},
   "outputs": [
    {
     "name": "stdout",
     "output_type": "stream",
     "text": [
      "Enter the Altitude of Plane-1000\n",
      "Safe to Land\n"
     ]
    }
   ],
   "source": [
    "altitude = input(\"Enter the Altitude of Plane-\")\n",
    "altitude = int(altitude)\n",
    "if altitude <= 1000:\n",
    "    print(\"Safe to Land\")\n",
    "elif altitude > 1000 and altitude < 5000:\n",
    "    print(\"Bring Down to 1000ft\")\n",
    "else:\n",
    "    print(\"Turn Around\")"
   ]
  },
  {
   "cell_type": "code",
   "execution_count": 11,
   "metadata": {},
   "outputs": [
    {
     "name": "stdout",
     "output_type": "stream",
     "text": [
      "Enter the Altitude of Plane-4500\n",
      "Bring Down to 1000ft\n"
     ]
    }
   ],
   "source": [
    "altitude = input(\"Enter the Altitude of Plane-\")\n",
    "altitude = int(altitude)\n",
    "if altitude <= 1000:\n",
    "    print(\"Safe to Land\")\n",
    "elif altitude > 1000 and altitude < 5000:\n",
    "    print(\"Bring Down to 1000ft\")\n",
    "else:\n",
    "    print(\"Turn Around\")"
   ]
  },
  {
   "cell_type": "code",
   "execution_count": 12,
   "metadata": {},
   "outputs": [
    {
     "name": "stdout",
     "output_type": "stream",
     "text": [
      "Enter the Altitude of Plane-6500\n",
      "Turn Around\n"
     ]
    }
   ],
   "source": [
    "altitude = input(\"Enter the Altitude of Plane-\")\n",
    "altitude = int(altitude)\n",
    "if altitude <= 1000:\n",
    "    print(\"Safe to Land\")\n",
    "elif altitude > 1000 and altitude < 5000:\n",
    "    print(\"Bring Down to 1000ft\")\n",
    "else:\n",
    "    print(\"Turn Around\")"
   ]
  },
  {
   "cell_type": "code",
   "execution_count": null,
   "metadata": {},
   "outputs": [],
   "source": []
  }
 ],
 "metadata": {
  "kernelspec": {
   "display_name": "Python 3",
   "language": "python",
   "name": "python3"
  },
  "language_info": {
   "codemirror_mode": {
    "name": "ipython",
    "version": 3
   },
   "file_extension": ".py",
   "mimetype": "text/x-python",
   "name": "python",
   "nbconvert_exporter": "python",
   "pygments_lexer": "ipython3",
   "version": "3.8.3"
  }
 },
 "nbformat": 4,
 "nbformat_minor": 4
}
