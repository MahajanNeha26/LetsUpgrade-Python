{
 "cells": [
  {
   "cell_type": "markdown",
   "metadata": {},
   "source": [
    "# List - Functions\n",
    "List is a Container holding different data types in it.Always written in square brackets[]\n"
   ]
  },
  {
   "cell_type": "code",
   "execution_count": 1,
   "metadata": {},
   "outputs": [
    {
     "name": "stdout",
     "output_type": "stream",
     "text": [
      "Sorted order of list is: ['Burger', 'Coke', 'Pizza', 'Sandwich', 'icecream']\n"
     ]
    }
   ],
   "source": [
    "mylist1 = [\"icecream\",\"Coke\",\"Burger\",\"Sandwich\",\"Pizza\"]\n",
    "mylist1.sort()                                                       #Sorts the list ascendingly\n",
    "print(\"Sorted order of list is:\", mylist1)\n"
   ]
  },
  {
   "cell_type": "code",
   "execution_count": 2,
   "metadata": {
    "scrolled": true
   },
   "outputs": [
    {
     "name": "stdout",
     "output_type": "stream",
     "text": [
      "Number of Elements in List are: 6\n"
     ]
    }
   ],
   "source": [
    "mylist2 = [\"Neha\",25,26.05,25,[\"Bhusawal\",\"Jalgaon\",\"MH19\"],\"Maharashtra\"]        #Total Length of List\n",
    "print(\"Number of Elements in List are:\",len(mylist2)) "
   ]
  },
  {
   "cell_type": "code",
   "execution_count": 3,
   "metadata": {},
   "outputs": [
    {
     "name": "stdout",
     "output_type": "stream",
     "text": [
      "The maximum value number is: 10\n"
     ]
    }
   ],
   "source": [
    "mylist3 = [3, 2, 8, 5, 10, 6]                                #Maximum Value from list\n",
    "largest_number = max(mylist3);\n",
    "\n",
    "print(\"The maximum value number is:\", largest_number)\n"
   ]
  },
  {
   "cell_type": "code",
   "execution_count": 4,
   "metadata": {},
   "outputs": [
    {
     "name": "stdout",
     "output_type": "stream",
     "text": [
      "The minimum value number is: 2\n"
     ]
    }
   ],
   "source": [
    "mylist4 = [3, 2, 8, 5, 10, 6]                              #Minimum Value from list\n",
    "smallest_number = min(mylist4);\n",
    "\n",
    "print(\"The minimum value number is:\", smallest_number)"
   ]
  },
  {
   "cell_type": "code",
   "execution_count": 5,
   "metadata": {},
   "outputs": [
    {
     "name": "stdout",
     "output_type": "stream",
     "text": [
      "List elements :  [7, '76A', 'Road', ['Bhusawal', 'Maharashtra'], 'Vivek']\n"
     ]
    }
   ],
   "source": [
    "mytuple = (7, \"76A\", \"Road\", [\"Bhusawal\",\"Maharashtra\"], \"Vivek\");          #Convert Tuple into List\n",
    "mylist5 = list(mytuple)\n",
    "print (\"List elements : \", mylist5)"
   ]
  },
  {
   "cell_type": "code",
   "execution_count": null,
   "metadata": {},
   "outputs": [],
   "source": []
  }
 ],
 "metadata": {
  "kernelspec": {
   "display_name": "Python 3",
   "language": "python",
   "name": "python3"
  },
  "language_info": {
   "codemirror_mode": {
    "name": "ipython",
    "version": 3
   },
   "file_extension": ".py",
   "mimetype": "text/x-python",
   "name": "python",
   "nbconvert_exporter": "python",
   "pygments_lexer": "ipython3",
   "version": "3.8.3"
  }
 },
 "nbformat": 4,
 "nbformat_minor": 4
}
