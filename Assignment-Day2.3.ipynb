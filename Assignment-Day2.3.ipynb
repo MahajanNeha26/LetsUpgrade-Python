{
 "cells": [
  {
   "cell_type": "markdown",
   "metadata": {},
   "source": [
    "# Sets - Functions\n",
    "Unordered Collection of Unique Objects"
   ]
  },
  {
   "cell_type": "code",
   "execution_count": 1,
   "metadata": {},
   "outputs": [
    {
     "name": "stdout",
     "output_type": "stream",
     "text": [
      "{'blackberry', 'vanilla', 'butterscotch', 'pista', 'strawberry'}\n"
     ]
    }
   ],
   "source": [
    "myset1 = {\"butterscotch\", \"vanilla\", \"pista\", \"strawberry\"}       #Adds an element to the set\n",
    "myset1.add(\"blackberry\")\n",
    "print(myset1)"
   ]
  },
  {
   "cell_type": "code",
   "execution_count": 2,
   "metadata": {},
   "outputs": [
    {
     "name": "stdout",
     "output_type": "stream",
     "text": [
      "False\n"
     ]
    }
   ],
   "source": [
    "myset1 = {\"butterscotch\", \"vanilla\", \"pista\", \"strawberry\"}         #Returns whether two sets have a intersection or not\n",
    "myset2 = {\"butterscotch\", \"vanilla\", \"pista\", \"strawberry\", \"choclate\"}\n",
    "myset3 = myset2.isdisjoint(myset1) \n",
    "print(myset3)"
   ]
  },
  {
   "cell_type": "code",
   "execution_count": 3,
   "metadata": {},
   "outputs": [
    {
     "name": "stdout",
     "output_type": "stream",
     "text": [
      "{'butterscotch', 'pista', 'strawberry'}\n"
     ]
    }
   ],
   "source": [
    "myset1 = {\"butterscotch\", \"vanilla\", \"pista\", \"strawberry\"}       #Removes an element from the set\n",
    "myset1.pop()\n",
    "print(myset1)"
   ]
  },
  {
   "cell_type": "code",
   "execution_count": 4,
   "metadata": {},
   "outputs": [
    {
     "name": "stdout",
     "output_type": "stream",
     "text": [
      "{'trichoclate', 'vanilla', 'butterscotch', 'pista', 'strawberry'}\n"
     ]
    }
   ],
   "source": [
    "myset1 = {\"butterscotch\", \"vanilla\", \"pista\", \"strawberry\"}   #Returns Union of Set\n",
    "myset4 = {\"butterscotch\", \"strawberry\", \"trichoclate\"}  \n",
    "myset5 = myset1.union(myset4) \n",
    "print(myset5)"
   ]
  },
  {
   "cell_type": "code",
   "execution_count": 5,
   "metadata": {},
   "outputs": [
    {
     "name": "stdout",
     "output_type": "stream",
     "text": [
      "{'vanilla', 'pista'}\n"
     ]
    }
   ],
   "source": [
    "myset1 = {\"butterscotch\", \"vanilla\", \"pista\", \"strawberry\"} #Returns a set containing the difference between two or more sets\n",
    "myset4 = {\"butterscotch\", \"strawberry\", \"trichoclate\"} \n",
    "myset6 = myset1.difference(myset4) \n",
    "print(myset6)\n"
   ]
  },
  {
   "cell_type": "code",
   "execution_count": null,
   "metadata": {},
   "outputs": [],
   "source": []
  }
 ],
 "metadata": {
  "kernelspec": {
   "display_name": "Python 3",
   "language": "python",
   "name": "python3"
  },
  "language_info": {
   "codemirror_mode": {
    "name": "ipython",
    "version": 3
   },
   "file_extension": ".py",
   "mimetype": "text/x-python",
   "name": "python",
   "nbconvert_exporter": "python",
   "pygments_lexer": "ipython3",
   "version": "3.8.3"
  }
 },
 "nbformat": 4,
 "nbformat_minor": 4
}
